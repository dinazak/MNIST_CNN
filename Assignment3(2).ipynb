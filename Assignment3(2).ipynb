{
  "nbformat": 4,
  "nbformat_minor": 0,
  "metadata": {
    "colab": {
      "name": "Assignment3.ipynb",
      "provenance": [],
      "collapsed_sections": []
    },
    "kernelspec": {
      "name": "python3",
      "display_name": "Python 3"
    },
    "language_info": {
      "name": "python"
    },
    "accelerator": "GPU"
  },
  "cells": [
    {
      "cell_type": "code",
      "execution_count": 12,
      "metadata": {
        "id": "bsFXdNEsgrXw"
      },
      "outputs": [],
      "source": [
        "import tensorflow as tf\n",
        "import matplotlib.pyplot as plt\n",
        "%matplotlib inline \n",
        "from tensorflow import keras\n",
        "from tensorflow.keras import models\n",
        "import numpy as np\n",
        "import pandas as pd\n",
        "from sklearn.neighbors import KNeighborsClassifier\n",
        "from sklearn.metrics import accuracy_score\n",
        "from mlxtend.data import loadlocal_mnist\n",
        "import matplotlib.pyplot as plt\n",
        "from scipy import ndimage as img\n",
        "from scipy.ndimage.measurements import center_of_mass\n",
        "import math\n",
        "import warnings\n",
        "warnings.filterwarnings('ignore')\n",
        "import math\n",
        "import time \n",
        "import random \n",
        "from sklearn import preprocessing\n",
        "from matplotlib import pyplot as plt\n",
        "from tensorflow.keras import layers\n",
        "from tensorflow.keras.optimizers import Adadelta,Adagrad, SGD\n",
        "from keras.models import Sequential\n",
        "from keras.layers import MaxPooling2D\n",
        "from keras.layers import Conv2D\n",
        "from keras.layers import Flatten\n",
        "from keras.layers import Dense\n",
        "from keras.layers import Dropout"
      ]
    },
    {
      "cell_type": "markdown",
      "source": [
        "**- Loading data**"
      ],
      "metadata": {
        "id": "h5hZgCE4g5NT"
      }
    },
    {
      "cell_type": "code",
      "source": [
        "(x_train,y_train) , (x_test ,y_test) = keras.datasets.mnist.load_data()\n",
        "#samples\n",
        "#x_train=x_train[:10000,:,:]\n",
        "#y_train=y_train[:10000]\n",
        "#x_test=x_test[:1000,:,:]\n",
        "#y_test=y_test[:1000]\n",
        "#test=y_test\n",
        "print(len(x_test))\n",
        "print(len(x_train))"
      ],
      "metadata": {
        "colab": {
          "base_uri": "https://localhost:8080/"
        },
        "id": "hDKGmBLyhA_f",
        "outputId": "b2d050e1-1825-4686-dd15-39f561c29222"
      },
      "execution_count": 13,
      "outputs": [
        {
          "output_type": "stream",
          "name": "stdout",
          "text": [
            "10000\n",
            "60000\n"
          ]
        }
      ]
    },
    {
      "cell_type": "markdown",
      "source": [
        "**- One hot vector**"
      ],
      "metadata": {
        "id": "xxLW92uxhExl"
      }
    },
    {
      "cell_type": "code",
      "source": [
        "# Define the One-hot Encoder\n",
        "ohe = preprocessing.OneHotEncoder()# Reshape data\n",
        "y_train = y_train.reshape(-1, 1)\n",
        "y_test = y_test.reshape(-1, 1)\n",
        "\n",
        "# Fit and transform training data\n",
        "ohe.fit(y_train)\n",
        "y_train = ohe.transform(y_train).toarray()\n",
        "\n",
        "# Fit and transform testing data\n",
        "ohe.fit(y_test)\n",
        "y_test = ohe.transform(y_test).toarray()\n",
        "\n",
        "# Print results\n",
        "print(f'Value with encoding: {y_test[1]}')"
      ],
      "metadata": {
        "colab": {
          "base_uri": "https://localhost:8080/"
        },
        "id": "8K4EUfLWhI0n",
        "outputId": "ac045062-0da7-4a66-98f0-b60681e8bb0d"
      },
      "execution_count": 14,
      "outputs": [
        {
          "output_type": "stream",
          "name": "stdout",
          "text": [
            "Value with encoding: [0. 0. 1. 0. 0. 0. 0. 0. 0. 0.]\n"
          ]
        }
      ]
    },
    {
      "cell_type": "markdown",
      "source": [
        "**- Build the model**"
      ],
      "metadata": {
        "id": "FVqPAX96hLm8"
      }
    },
    {
      "cell_type": "code",
      "source": [
        "def define_model():\n",
        "  model = Sequential()\n",
        "  model.add(Conv2D(64, (2, 2), activation='relu', input_shape=(28, 28, 1)))\n",
        "  model.add(MaxPooling2D(strides=(2, 2)))\n",
        "  model.add(Conv2D(32, (2, 2), activation='relu', input_shape=(28, 28, 1)))\n",
        "  model.add(MaxPooling2D(strides=(2, 2)))\n",
        "  model.add(Conv2D(16, (2, 2), activation='relu', input_shape=(28, 28, 1)))\n",
        "  model.add(MaxPooling2D(strides=(2, 2)))\n",
        "  \n",
        "  model.add(Flatten())\n",
        " \n",
        "  model.add(Dense(10, activation='relu', kernel_initializer='he_uniform'))\n",
        "\n",
        "\n",
        "  model.add(Dense(10, activation='softmax'))\n",
        "  opt = SGD(lr=0.005, momentum=0.1)\n",
        "  model.compile(optimizer=opt, loss='categorical_crossentropy', metrics=['accuracy'])\n",
        "  return model"
      ],
      "metadata": {
        "id": "6dBw6c6JhU1N"
      },
      "execution_count": 17,
      "outputs": []
    },
    {
      "cell_type": "markdown",
      "source": [
        "**- Train the model**"
      ],
      "metadata": {
        "id": "lPYTu6ZEhks2"
      }
    },
    {
      "cell_type": "code",
      "source": [
        "model = define_model()\n",
        "model.fit(x_train, y_train, epochs=15, batch_size=20, validation_data=(x_test, y_test),shuffle=True)\n",
        "\n"
      ],
      "metadata": {
        "id": "5Fcjr4fnhQ-F",
        "colab": {
          "base_uri": "https://localhost:8080/"
        },
        "outputId": "48378af9-558d-41bc-9cb2-32e3ea6f288a"
      },
      "execution_count": 18,
      "outputs": [
        {
          "output_type": "stream",
          "name": "stdout",
          "text": [
            "Epoch 1/15\n",
            "3000/3000 [==============================] - 11s 4ms/step - loss: 1.9308 - accuracy: 0.2654 - val_loss: 1.5302 - val_accuracy: 0.3813\n",
            "Epoch 2/15\n",
            "3000/3000 [==============================] - 11s 4ms/step - loss: 1.3645 - accuracy: 0.4566 - val_loss: 1.2414 - val_accuracy: 0.4963\n",
            "Epoch 3/15\n",
            "3000/3000 [==============================] - 10s 3ms/step - loss: 1.1795 - accuracy: 0.5139 - val_loss: 1.1333 - val_accuracy: 0.5209\n",
            "Epoch 4/15\n",
            "3000/3000 [==============================] - 10s 3ms/step - loss: 0.6768 - accuracy: 0.7574 - val_loss: 0.2946 - val_accuracy: 0.9163\n",
            "Epoch 5/15\n",
            "3000/3000 [==============================] - 11s 4ms/step - loss: 0.2526 - accuracy: 0.9255 - val_loss: 0.2401 - val_accuracy: 0.9311\n",
            "Epoch 6/15\n",
            "3000/3000 [==============================] - 10s 3ms/step - loss: 0.1962 - accuracy: 0.9420 - val_loss: 0.1933 - val_accuracy: 0.9448\n",
            "Epoch 7/15\n",
            "3000/3000 [==============================] - 10s 3ms/step - loss: 0.1747 - accuracy: 0.9475 - val_loss: 0.1677 - val_accuracy: 0.9544\n",
            "Epoch 8/15\n",
            "3000/3000 [==============================] - 10s 3ms/step - loss: 0.1615 - accuracy: 0.9512 - val_loss: 0.1470 - val_accuracy: 0.9571\n",
            "Epoch 9/15\n",
            "3000/3000 [==============================] - 10s 3ms/step - loss: 0.1488 - accuracy: 0.9553 - val_loss: 0.1368 - val_accuracy: 0.9616\n",
            "Epoch 10/15\n",
            "3000/3000 [==============================] - 11s 4ms/step - loss: 0.1394 - accuracy: 0.9589 - val_loss: 0.1696 - val_accuracy: 0.9508\n",
            "Epoch 11/15\n",
            "3000/3000 [==============================] - 11s 4ms/step - loss: 0.1324 - accuracy: 0.9602 - val_loss: 0.1346 - val_accuracy: 0.9612\n",
            "Epoch 12/15\n",
            "3000/3000 [==============================] - 10s 3ms/step - loss: 0.1251 - accuracy: 0.9624 - val_loss: 0.1514 - val_accuracy: 0.9551\n",
            "Epoch 13/15\n",
            "3000/3000 [==============================] - 11s 4ms/step - loss: 0.1193 - accuracy: 0.9644 - val_loss: 0.1270 - val_accuracy: 0.9629\n",
            "Epoch 14/15\n",
            "3000/3000 [==============================] - 11s 4ms/step - loss: 0.1150 - accuracy: 0.9650 - val_loss: 0.1322 - val_accuracy: 0.9635\n",
            "Epoch 15/15\n",
            "3000/3000 [==============================] - 11s 4ms/step - loss: 0.1113 - accuracy: 0.9666 - val_loss: 0.1376 - val_accuracy: 0.9604\n"
          ]
        },
        {
          "output_type": "execute_result",
          "data": {
            "text/plain": [
              "<keras.callbacks.History at 0x7fd51422e490>"
            ]
          },
          "metadata": {},
          "execution_count": 18
        }
      ]
    },
    {
      "cell_type": "code",
      "source": [
        "model.summary()"
      ],
      "metadata": {
        "id": "Puo8kqgmkstn",
        "colab": {
          "base_uri": "https://localhost:8080/"
        },
        "outputId": "48088405-af4c-4b6b-cf1c-756da9f1e125"
      },
      "execution_count": 19,
      "outputs": [
        {
          "output_type": "stream",
          "name": "stdout",
          "text": [
            "Model: \"sequential_2\"\n",
            "_________________________________________________________________\n",
            " Layer (type)                Output Shape              Param #   \n",
            "=================================================================\n",
            " conv2d_6 (Conv2D)           (None, 27, 27, 64)        320       \n",
            "                                                                 \n",
            " max_pooling2d_6 (MaxPooling  (None, 13, 13, 64)       0         \n",
            " 2D)                                                             \n",
            "                                                                 \n",
            " conv2d_7 (Conv2D)           (None, 12, 12, 32)        8224      \n",
            "                                                                 \n",
            " max_pooling2d_7 (MaxPooling  (None, 6, 6, 32)         0         \n",
            " 2D)                                                             \n",
            "                                                                 \n",
            " conv2d_8 (Conv2D)           (None, 5, 5, 16)          2064      \n",
            "                                                                 \n",
            " max_pooling2d_8 (MaxPooling  (None, 2, 2, 16)         0         \n",
            " 2D)                                                             \n",
            "                                                                 \n",
            " flatten_2 (Flatten)         (None, 64)                0         \n",
            "                                                                 \n",
            " dense_4 (Dense)             (None, 10)                650       \n",
            "                                                                 \n",
            " dense_5 (Dense)             (None, 10)                110       \n",
            "                                                                 \n",
            "=================================================================\n",
            "Total params: 11,368\n",
            "Trainable params: 11,368\n",
            "Non-trainable params: 0\n",
            "_________________________________________________________________\n"
          ]
        }
      ]
    },
    {
      "cell_type": "code",
      "source": [
        "score = model.evaluate(x_test, y_test, verbose=0)\n",
        "print(\"Test loss:\", score[0]*100)\n",
        "print(\"Test accuracy:\", score[1]*100)"
      ],
      "metadata": {
        "id": "Ch3TMY33iM9u",
        "colab": {
          "base_uri": "https://localhost:8080/"
        },
        "outputId": "7eaf3efe-625c-4da5-9620-b971adb24c6d"
      },
      "execution_count": 20,
      "outputs": [
        {
          "output_type": "stream",
          "name": "stdout",
          "text": [
            "Test loss: 13.758504390716553\n",
            "Test accuracy: 96.03999853134155\n"
          ]
        }
      ]
    }
  ]
}